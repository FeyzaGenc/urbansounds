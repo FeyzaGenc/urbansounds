{
  "nbformat": 4,
  "nbformat_minor": 0,
  "metadata": {
    "colab": {
      "provenance": [],
      "collapsed_sections": []
    },
    "kernelspec": {
      "name": "python3",
      "display_name": "Python 3"
    },
    "language_info": {
      "name": "python"
    }
  },
  "cells": [
    {
      "cell_type": "code",
      "execution_count": 2,
      "metadata": {
        "id": "ni0Ml99W5it4"
      },
      "outputs": [],
      "source": [
        "from tensorflow import keras\n",
        "from tensorflow.keras import layers\n",
        "import tensorflow as tf\n",
        "import numpy as np\n",
        "from glob import glob\n",
        "import pickle\n",
        "import cv2"
      ]
    },
    {
      "cell_type": "code",
      "source": [
        "spectograms_path=\"/content/drive/MyDrive/spectrograms\"\n",
        "\n",
        "training_data=[]\n",
        "\n",
        "def grayscale_with_opencv(path):\n",
        "  image = cv2.imread(path)\t\n",
        "  gray = cv2.cvtColor(image, cv2.COLOR_BGR2GRAY)\n",
        "  return gray\n",
        "\n",
        "def resizing_and_normalization_with_opencv(img):\n",
        "  resized_img = cv2.resize(img,(128,128))\n",
        "  normalized_img=resized_img/255\n",
        "  return normalized_img"
      ],
      "metadata": {
        "id": "kfqJZMx36Jkb"
      },
      "execution_count": 4,
      "outputs": []
    },
    {
      "cell_type": "code",
      "source": [
        "files = glob(spectograms_path+\"/*/*.png\")\n",
        "i=0\n",
        "while len(files)>i:\n",
        "  label = str(files[i])[len(spectograms_path)+1:len(spectograms_path)+2]\n",
        "  image=grayscale_with_opencv(files[i])\n",
        "  image=resizing_and_normalization_with_opencv(image)\n",
        "  training_data.append([image,label])\n",
        "  i+=1\n",
        "\n",
        "\n",
        "X_train = [training_data[i][0] for i in range(len(training_data[:5900]))]\n",
        "y_train = [training_data[i][1] for i in range(len(training_data[:5900]))]\n",
        "X_test = [training_data[i][0] for i in range(len(training_data[5900:7125]))]\n",
        "y_test = [training_data[i][1] for i in range(len(training_data[5900:7125]))]\n",
        "X_val = [training_data[i][0] for i in range(len(training_data[7125:]))]\n",
        "y_val = [training_data[i][1] for i in range(len(training_data[7125:]))]\n",
        "\n",
        "with open('X_train.data', 'wb') as f:\n",
        "  pickle.dump(X_train,f)\n",
        "\n",
        "with open('y_train.data', 'wb') as f:\n",
        "  pickle.dump(y_train,f)\n",
        "\n",
        "with open('X_test.data', 'wb') as f:\n",
        "  pickle.dump(X_test,f)\n",
        "\n",
        "with open('y_test.data', 'wb') as f:\n",
        "  pickle.dump(y_test,f)\n",
        "\n",
        "with open('X_val.data', 'wb') as f:\n",
        "  pickle.dump(X_val,f)\n",
        "\n",
        "with open('y_val.data', 'wb') as f:\n",
        "  pickle.dump(y_val,f)"
      ],
      "metadata": {
        "id": "yMqJlTB06gAC"
      },
      "execution_count": 5,
      "outputs": []
    }
  ]
}